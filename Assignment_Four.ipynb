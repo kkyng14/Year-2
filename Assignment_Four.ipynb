{
  "nbformat": 4,
  "nbformat_minor": 0,
  "metadata": {
    "colab": {
      "provenance": [],
      "authorship_tag": "ABX9TyMjdaVKLD+QqPgAtukqYpap",
      "include_colab_link": true
    },
    "kernelspec": {
      "name": "python3",
      "display_name": "Python 3"
    },
    "language_info": {
      "name": "python"
    }
  },
  "cells": [
    {
      "cell_type": "markdown",
      "metadata": {
        "id": "view-in-github",
        "colab_type": "text"
      },
      "source": [
        "<a href=\"https://colab.research.google.com/github/kkyng14/Year-2/blob/main/Assignment_Four.ipynb\" target=\"_parent\"><img src=\"https://colab.research.google.com/assets/colab-badge.svg\" alt=\"Open In Colab\"/></a>"
      ]
    },
    {
      "cell_type": "markdown",
      "source": [
        "Question One"
      ],
      "metadata": {
        "id": "ZZTsDIxIiMF_"
      }
    },
    {
      "cell_type": "code",
      "source": [
        "import numpy as np\n",
        "\n",
        "# Given matrix A\n",
        "A = np.array([[0, 11, -5],\n",
        "              [-2, 17, -7],\n",
        "              [-4, 26, -10]])\n",
        "\n",
        "# Part (a): Characteristic Polynomial (Eigenvalues of A)\n",
        "def characteristic_polynomial(A):\n",
        "    n = A.shape[0]\n",
        "    # We calculate eigenvalues of A\n",
        "    lambda_values = np.linalg.eigvals(A)  # Eigenvalues of A\n",
        "    return lambda_values\n",
        "\n",
        "# Part (b): Power Method to find dominant eigenvalue and corresponding eigenvector\n",
        "def power_method(A, v0, tol=0.005, max_iter=1000):\n",
        "    v = v0\n",
        "    for i in range(max_iter):\n",
        "        # Multiply A with the current vector v\n",
        "        v_new = np.dot(A, v)\n",
        "\n",
        "        # Compute the eigenvalue using Rayleigh quotient\n",
        "        lambda_new = np.dot(v_new.T, v_new) / np.dot(v.T, v)\n",
        "\n",
        "        # Normalize the vector\n",
        "        v_new = v_new / np.linalg.norm(v_new)\n",
        "\n",
        "        # Check for convergence (tolerance)\n",
        "        if np.linalg.norm(v_new - v) < tol:\n",
        "            break\n",
        "\n",
        "        v = v_new\n",
        "\n",
        "    # Return the dominant eigenvalue and the corresponding eigenvector\n",
        "    return lambda_new, v_new\n",
        "\n",
        "# Shifted Power Method to find the smallest eigenvalue and corresponding eigenvector\n",
        "def shifted_power_method(A, v0, dominant_eigenvalue, tol=0.005, max_iter=1000):\n",
        "    # Shifted matrix (A - sigma I)\n",
        "    shifted_A = A - dominant_eigenvalue * np.eye(A.shape[0])\n",
        "\n",
        "    # Apply power method on shifted matrix\n",
        "    return power_method(shifted_A, v0, tol, max_iter)\n",
        "\n",
        "# Initial vector for power method (given as [0, 1, 1])\n",
        "v0 = np.array([0, 1, 1])\n",
        "\n",
        "# Part (a) - Find the eigenvalues (characteristic polynomial)\n",
        "lambda_values = characteristic_polynomial(A)\n",
        "print(\"Eigenvalues of A (Characteristic Polynomial):\", lambda_values)\n",
        "\n",
        "# Part (b) - Use power method to find the dominant eigenvalue and eigenvector\n",
        "dominant_eigenvalue, eigenvector = power_method(A, v0)\n",
        "\n",
        "# Round the dominant eigenvalue to the nearest integer\n",
        "dominant_eigenvalue_rounded = round(dominant_eigenvalue)\n",
        "\n",
        "# Print results for the dominant eigenvalue\n",
        "print(f\"Dominant Eigenvalue (rounded to nearest integer): {dominant_eigenvalue_rounded}\")\n",
        "print(f\"Corresponding Eigenvector: {eigenvector}\")\n",
        "\n",
        "# Initial vector for shifted power method (given as [1.0, 0.25, 1.0])\n",
        "v0_shifted = np.array([1.0, 0.25, 1.0])\n",
        "\n",
        "# Part (c) - Use shifted power method to find the smallest eigenvalue and corresponding eigenvector\n",
        "smallest_eigenvalue, smallest_eigenvector = shifted_power_method(A, v0_shifted, dominant_eigenvalue_rounded)\n",
        "\n",
        "# Round the smallest eigenvalue to the nearest integer\n",
        "smallest_eigenvalue_rounded = round(smallest_eigenvalue)\n",
        "\n",
        "# Print results for the smallest eigenvalue and eigenvector\n",
        "print(f\"\\nSmallest Eigenvalue (rounded to nearest integer): {smallest_eigenvalue_rounded}\")\n",
        "print(f\"Corresponding Eigenvector: {smallest_eigenvector}\")\n"
      ],
      "metadata": {
        "colab": {
          "base_uri": "https://localhost:8080/"
        },
        "id": "GSW70QD60AfQ",
        "outputId": "acd89d64-5d4c-43c3-e4bb-1d22ac435e21"
      },
      "execution_count": 13,
      "outputs": [
        {
          "output_type": "stream",
          "name": "stdout",
          "text": [
            "Eigenvalues of A (Characteristic Polynomial): [1. 2. 4.]\n",
            "Dominant Eigenvalue (rounded to nearest integer): 17\n",
            "Corresponding Eigenvector: [0.32336193 0.48760926 0.81097119]\n",
            "\n",
            "Smallest Eigenvalue (rounded to nearest integer): 256\n",
            "Corresponding Eigenvector: [0.40824829 0.40824829 0.81649658]\n"
          ]
        }
      ]
    },
    {
      "cell_type": "markdown",
      "source": [
        "Question Two"
      ],
      "metadata": {
        "id": "7QwwRw_ojFLV"
      }
    },
    {
      "cell_type": "code",
      "source": [
        "import numpy as np\n",
        "\n",
        "# Given data (T, µ)\n",
        "T_values = np.array([5, 20, 30, 50, 55])\n",
        "mu_values = np.array([0.0800, 0.0150, 0.0090, 0.0060, 0.0055])\n",
        "\n",
        "# i. Newton's Interpolation Method\n",
        "# Step 1: Compute the divided differences table\n",
        "def newton_divided_differences(x, y):\n",
        "    n = len(x)\n",
        "    coef = np.copy(y)  # Coefficients of Newton's polynomial (initially the y-values)\n",
        "    for j in range(1, n):\n",
        "        for i in range(n-1, j-1, -1):\n",
        "            coef[i] = (coef[i] - coef[i-1]) / (x[i] - x[i-j])\n",
        "    return coef\n",
        "\n",
        "def newton_interpolation(x, y, value):\n",
        "    coef = newton_divided_differences(x, y)\n",
        "    n = len(x)\n",
        "    result = coef[n-1]\n",
        "    for i in range(n-2, -1, -1):\n",
        "        result = result * (value - x[i]) + coef[i]\n",
        "    return result\n",
        "\n",
        "# Estimate viscosity at T = 40 using Newton's interpolation\n",
        "T_estimate = 40\n",
        "mu_newton = newton_interpolation(T_values, mu_values, T_estimate)\n",
        "print(f\"Estimated viscosity at T = 40 using Newton's interpolation: {mu_newton:.6f}\")\n",
        "\n",
        "# ii. Lagrange Interpolation Method\n",
        "def lagrange_interpolation(x, y, value):\n",
        "    n = len(x)\n",
        "    result = 0\n",
        "    for i in range(n):\n",
        "        term = y[i]\n",
        "        for j in range(n):\n",
        "            if j != i:\n",
        "                term = term * (value - x[j]) / (x[i] - x[j])\n",
        "        result += term\n",
        "    return result\n",
        "\n",
        "# Estimate viscosity at T = 40 using Lagrange interpolation\n",
        "mu_lagrange = lagrange_interpolation(T_values, mu_values, T_estimate)\n",
        "print(f\"Estimated viscosity at T = 40 using Lagrange interpolation: {mu_lagrange:.6f}\")\n"
      ],
      "metadata": {
        "colab": {
          "base_uri": "https://localhost:8080/"
        },
        "id": "rEvUC37d0Zi7",
        "outputId": "6ea8a1bd-8f4d-45e2-b738-de7583bb6ac4"
      },
      "execution_count": 14,
      "outputs": [
        {
          "output_type": "stream",
          "name": "stdout",
          "text": [
            "Estimated viscosity at T = 40 using Newton's interpolation: 0.008311\n",
            "Estimated viscosity at T = 40 using Lagrange interpolation: 0.008311\n"
          ]
        }
      ]
    },
    {
      "cell_type": "markdown",
      "source": [
        "Question Three"
      ],
      "metadata": {
        "id": "ZQyvwGXQjnRo"
      }
    },
    {
      "cell_type": "code",
      "source": [
        "import numpy as np\n",
        "\n",
        "# Given data (Labour cost, Profit)\n",
        "labour_cost = np.array([10, 16, 25, 40, 60])\n",
        "profit = np.array([94, 118, 147, 180, 230])\n",
        "\n",
        "# Step 1: Calculate the required sums\n",
        "n = len(labour_cost)\n",
        "\n",
        "# Summations\n",
        "sum_x = np.sum(labour_cost)\n",
        "sum_y = np.sum(profit)\n",
        "sum_x2 = np.sum(labour_cost**2)\n",
        "sum_xy = np.sum(labour_cost * profit)\n",
        "\n",
        "# Step 2: Calculate the constants a (slope) and b (intercept) using the least squares formulas\n",
        "a = (n * sum_xy - sum_x * sum_y) / (n * sum_x2 - sum_x**2)\n",
        "b = (sum_y * sum_x2 - sum_x * sum_xy) / (n * sum_x2 - sum_x**2)\n",
        "\n",
        "# Display the values of a and b\n",
        "print(f\"Slope (a): {a:.6f}\")\n",
        "print(f\"Intercept (b): {b:.6f}\")\n",
        "\n",
        "# Step 3: Find the profit when labour cost is 210\n",
        "labour_cost_210 = 210\n",
        "profit_210 = a * labour_cost_210 + b\n",
        "print(f\"Profit when labour cost is 210: {profit_210:.6f}\")\n"
      ],
      "metadata": {
        "colab": {
          "base_uri": "https://localhost:8080/"
        },
        "id": "2z2VygFK02aw",
        "outputId": "a4cefafa-2277-4c9b-cdb7-8e807008bfbd"
      },
      "execution_count": 17,
      "outputs": [
        {
          "output_type": "stream",
          "name": "stdout",
          "text": [
            "Slope (a): 2.640178\n",
            "Intercept (b): 74.066634\n",
            "Profit when labour cost is 210: 628.503949\n"
          ]
        }
      ]
    },
    {
      "cell_type": "markdown",
      "source": [
        "Question Four"
      ],
      "metadata": {
        "id": "GFSCYwl5j3Dx"
      }
    },
    {
      "cell_type": "code",
      "source": [
        "import numpy as np\n",
        "\n",
        "# Define the function and its exact derivatives\n",
        "def f(x):\n",
        "    return 2 * x**3 + x**2 - 4\n",
        "\n",
        "def f_prime_exact(x):\n",
        "    return 6 * x**2 + 2 * x\n",
        "\n",
        "def f_double_prime_exact(x):\n",
        "    return 12 * x + 2\n",
        "\n",
        "# Central three-point derivative approximation\n",
        "def central_three_point_prime(x, h):\n",
        "    return (f(x + h) - f(x - h)) / (2 * h)\n",
        "\n",
        "def central_three_point_double_prime(x, h):\n",
        "    return (f(x + h) - 2 * f(x) + f(x - h)) / (h**2)\n",
        "\n",
        "# Central five-point derivative approximation\n",
        "def central_five_point_prime(x, h):\n",
        "    return (-f(x + 2 * h) + 8 * f(x + h) - 8 * f(x - h) + f(x - 2 * h)) / (12 * h)\n",
        "\n",
        "def central_five_point_double_prime(x, h):\n",
        "    return (-f(x + 2 * h) + 16 * f(x + h) - 30 * f(x) + 16 * f(x - h) - f(x - 2 * h)) / (12 * h**2)\n",
        "\n",
        "# Set values\n",
        "x = 2.5\n",
        "h = 0.5\n",
        "\n",
        "# Calculate approximations\n",
        "f_prime_three_point = central_three_point_prime(x, h)\n",
        "f_double_prime_three_point = central_three_point_double_prime(x, h)\n",
        "\n",
        "f_prime_five_point = central_five_point_prime(x, h)\n",
        "f_double_prime_five_point = central_five_point_double_prime(x, h)\n",
        "\n",
        "# Calculate exact values\n",
        "f_prime_exact_val = f_prime_exact(x)\n",
        "f_double_prime_exact_val = f_double_prime_exact(x)\n",
        "\n",
        "# Calculate errors\n",
        "error_prime_three_point = abs(f_prime_three_point - f_prime_exact_val)\n",
        "error_double_prime_three_point = abs(f_double_prime_three_point - f_double_prime_exact_val)\n",
        "\n",
        "error_prime_five_point = abs(f_prime_five_point - f_prime_exact_val)\n",
        "error_double_prime_five_point = abs(f_double_prime_five_point - f_double_prime_exact_val)\n",
        "\n",
        "# Print results\n",
        "print(f\"Central Three-Point Formula for f'(2.5): {f_prime_three_point}\")\n",
        "print(f\"Central Three-Point Formula for f''(2.5): {f_double_prime_three_point}\")\n",
        "print(f\"Central Five-Point Formula for f'(2.5): {f_prime_five_point}\")\n",
        "print(f\"Central Five-Point Formula for f''(2.5): {f_double_prime_five_point}\")\n",
        "\n",
        "print(f\"\\nExact f'(2.5): {f_prime_exact_val}\")\n",
        "print(f\"Exact f''(2.5): {f_double_prime_exact_val}\")\n",
        "\n",
        "print(f\"\\nError in f'(2.5) (Three-Point): {error_prime_three_point}\")\n",
        "print(f\"Error in f''(2.5) (Three-Point): {error_double_prime_three_point}\")\n",
        "print(f\"Error in f'(2.5) (Five-Point): {error_prime_five_point}\")\n",
        "print(f\"Error in f''(2.5) (Five-Point): {error_double_prime_five_point}\")\n"
      ],
      "metadata": {
        "colab": {
          "base_uri": "https://localhost:8080/"
        },
        "id": "1u8IauVizRza",
        "outputId": "8785f5c0-2068-4369-b586-ce11a248097c"
      },
      "execution_count": 12,
      "outputs": [
        {
          "output_type": "stream",
          "name": "stdout",
          "text": [
            "Central Three-Point Formula for f'(2.5): 43.0\n",
            "Central Three-Point Formula for f''(2.5): 32.0\n",
            "Central Five-Point Formula for f'(2.5): 42.5\n",
            "Central Five-Point Formula for f''(2.5): 32.0\n",
            "\n",
            "Exact f'(2.5): 42.5\n",
            "Exact f''(2.5): 32.0\n",
            "\n",
            "Error in f'(2.5) (Three-Point): 0.5\n",
            "Error in f''(2.5) (Three-Point): 0.0\n",
            "Error in f'(2.5) (Five-Point): 0.0\n",
            "Error in f''(2.5) (Five-Point): 0.0\n"
          ]
        }
      ]
    },
    {
      "cell_type": "markdown",
      "source": [
        "Question Five"
      ],
      "metadata": {
        "id": "9cMdIVQkkBSc"
      }
    },
    {
      "cell_type": "code",
      "source": [
        "import numpy as np\n",
        "\n",
        "# Define the function to be integrated\n",
        "def f(x):\n",
        "    return np.exp(-x**2)  # Example function, you can replace this\n",
        "\n",
        "# a) Trapezoidal Rule with N=6\n",
        "def trapezoidal_rule(a, b, N):\n",
        "    h = (b - a) / N\n",
        "    x = np.linspace(a, b, N + 1)\n",
        "    integral = (h / 2) * (f(a) + 2 * np.sum(f(x[1:N])) + f(b))\n",
        "    return integral\n",
        "\n",
        "# b) Simpson's 1/3 Rule with N=6\n",
        "def simpsons_1_3_rule(a, b, N):\n",
        "    h = (b - a) / N\n",
        "    x = np.linspace(a, b, N + 1)\n",
        "    integral = (h / 3) * (f(a) + 4 * np.sum(f(x[1:N:2])) + 2 * np.sum(f(x[2:N-1:2])) + f(b))\n",
        "    return integral\n",
        "\n",
        "# c) Simpson's 3/8 Rule with h=0.25\n",
        "def simpsons_3_8_rule(a, b, h):\n",
        "    N = int((b - a) / h)\n",
        "    x = np.linspace(a, b, N + 1)\n",
        "    integral = (3 * h / 8) * (f(a) + 3 * np.sum(f(x[1:N:3])) + 3 * np.sum(f(x[2:N:3])) + f(b))\n",
        "    return integral\n",
        "\n",
        "# d) Romberg Integration with epsilon = 0.005\n",
        "def romberg_integration(a, b, epsilon=0.005):\n",
        "    def trapezoidal_rule_romberg(a, b, N):\n",
        "        h = (b - a) / N\n",
        "        x = np.linspace(a, b, N + 1)\n",
        "        return (h / 2) * (f(a) + 2 * np.sum(f(x[1:N])) + f(b))\n",
        "\n",
        "    # Initialize Romberg integration table\n",
        "    N = 1\n",
        "    R = np.zeros((100, 100))  # Preallocate a table to store results\n",
        "    R[0, 0] = trapezoidal_rule_romberg(a, b, N)\n",
        "\n",
        "    # Iterative calculation of Romberg approximations\n",
        "    k = 1\n",
        "    while True:\n",
        "        N *= 2\n",
        "        R[k, 0] = trapezoidal_rule_romberg(a, b, N)\n",
        "\n",
        "        # Richardson extrapolation\n",
        "        for j in range(1, k + 1):\n",
        "            R[k, j] = (4**j * R[k, j - 1] - R[k - 1, j - 1]) / (4**j - 1)\n",
        "\n",
        "        # Check for convergence (if the difference between successive estimates is within epsilon)\n",
        "        if abs(R[k, k] - R[k - 1, k - 1]) < epsilon:\n",
        "            break\n",
        "\n",
        "        k += 1\n",
        "\n",
        "    return R[k, k]\n",
        "\n",
        "# Integration limits\n",
        "a = 0  # Lower limit of integration\n",
        "b = 1  # Upper limit of integration\n",
        "\n",
        "# a) Trapezoidal Rule with N=6\n",
        "trap_result = trapezoidal_rule(a, b, 6)\n",
        "print(f\"Trapezoidal Rule Result: {trap_result:.6f}\")\n",
        "\n",
        "# b) Simpson's 1/3 Rule with N=6\n",
        "simpson_1_3_result = simpsons_1_3_rule(a, b, 6)\n",
        "print(f\"Simpson's 1/3 Rule Result: {simpson_1_3_result:.6f}\")\n",
        "\n",
        "# c) Simpson's 3/8 Rule with h=0.25\n",
        "simpson_3_8_result = simpsons_3_8_rule(a, b, 0.25)\n",
        "print(f\"Simpson's 3/8 Rule Result: {simpson_3_8_result:.6f}\")\n",
        "\n",
        "# d) Romberg Integration with epsilon=0.005\n",
        "romberg_result = romberg_integration(a, b, 0.005)\n",
        "print(f\"Romberg Integration Result: {romberg_result:.6f}\")\n"
      ],
      "metadata": {
        "colab": {
          "base_uri": "https://localhost:8080/"
        },
        "id": "DzBuuaNg1pWh",
        "outputId": "5a48a89a-c704-487c-b128-9a1b53072c76"
      },
      "execution_count": 19,
      "outputs": [
        {
          "output_type": "stream",
          "name": "stdout",
          "text": [
            "Trapezoidal Rule Result: 0.745119\n",
            "Simpson's 1/3 Rule Result: 0.746830\n",
            "Simpson's 3/8 Rule Result: 0.611486\n",
            "Romberg Integration Result: 0.746834\n"
          ]
        }
      ]
    }
  ]
}